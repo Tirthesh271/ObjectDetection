{
 "cells": [
  {
   "cell_type": "markdown",
   "metadata": {},
   "source": [
    "# Tirthesh Sohani\n",
    "\n",
    "## TSF GRIP IoT and Computer Vision Intern\n",
    "### Task1: Object Detection\n"
   ]
  },
  {
   "cell_type": "markdown",
   "metadata": {},
   "source": [
    "### Import OpenCV"
   ]
  },
  {
   "cell_type": "code",
   "execution_count": null,
   "metadata": {},
   "outputs": [],
   "source": [
    "import cv2"
   ]
  },
  {
   "cell_type": "markdown",
   "metadata": {},
   "source": [
    "### Create object detection model using OpenCV"
   ]
  },
  {
   "cell_type": "code",
   "execution_count": null,
   "metadata": {},
   "outputs": [],
   "source": [
    "#File with network configurations\n",
    "configFile = r\"C:\\Users\\tirthesh\\Desktop\\Project\\ObjectDetection\\ssd_mobilenet_v3_large_coco_2020_01_14.pbtxt\"\n",
    "\n",
    "#File containing pre-trained weights\n",
    "weights = r\"C:\\Users\\tirthesh\\Desktop\\Project\\ObjectDetection\\frozen_inference_graph.pb\"\n",
    "\n",
    "#Create model from DL network\n",
    "model = cv2.dnn_DetectionModel(weights, configFile)\n",
    "\n",
    "#Modifying Image size and scale as per documentation\n",
    "model.setInputSize(320,320)\n",
    "model.setInputScale(1.0/127.5)\n",
    "model.setInputMean((127.5,127.5,127.5))\n",
    "model.setInputSwapRB(True)"
   ]
  },
  {
   "cell_type": "code",
   "execution_count": null,
   "metadata": {},
   "outputs": [],
   "source": [
    "#Create a list of labels from coco.names\n",
    "classlabels = []\n",
    "with open(r\"C:\\Users\\tirthesh\\Desktop\\Project\\ObjectDetection\\names.txt\",'rt') as file:\n",
    "    classlabels = file.read().split(\"\\n\")\n"
   ]
  },
  {
   "cell_type": "markdown",
   "metadata": {},
   "source": [
    "### Detecting Objects in images"
   ]
  },
  {
   "cell_type": "code",
   "execution_count": null,
   "metadata": {
    "scrolled": true
   },
   "outputs": [],
   "source": [
    "#read image\n",
    "img = cv2.imread(r'C:\\Users\\tirthesh\\Desktop\\Project\\ObjectDetection\\bicycle.jpg')\n",
    "\n",
    "#Detect Objects\n",
    "classInd , confidence, box = model.detect(img, confThreshold= 0.6)\n",
    "\n",
    "i=0\n",
    "for i in range(0,len(classInd)):\n",
    "    cv2.rectangle(img,box[i],(255,0,0),2)\n",
    "    cv2.putText(img,classlabels[classInd.flatten()[i] -1],(box[i][0]+10,box[i][1]+40),cv2.FONT_HERSHEY_PLAIN, fontScale=1, color=(0,255,0), thickness = 2)\n",
    "    imag = cv2.resize(img, (720, 540),interpolation = cv2.INTER_NEAREST)\n",
    "    cv2.imshow(\"Image detection\",imag)\n",
    "\n",
    "#Exit after pressing Q\n",
    "if cv2.waitKey(0) & 0xFF == ord('q'):\n",
    "    cv2.destroyAllWindows()"
   ]
  },
  {
   "cell_type": "markdown",
   "metadata": {},
   "source": [
    "### Detect Objects in Videos"
   ]
  },
  {
   "cell_type": "code",
   "execution_count": null,
   "metadata": {},
   "outputs": [],
   "source": [
    "#cap = cv2.VideoCapture(\"/dev/video1\") #For using USB attached webcam\n",
    "#cap = cv2.VideoCapture(0)#For Using Webcam\n",
    "cap = cv2.VideoCapture(r\"C:\\Users\\tirthesh\\Desktop\\Project\\ObjectDetection\\cars.mp4\")\n",
    "\n",
    "if not cap.isOpened():\n",
    "    cap = cv2.VideoCapture(0)\n",
    "\n",
    "while True:\n",
    "    ret,frame = cap.read()\n",
    "    \n",
    "    try:classInd, confidence, box = model.detect(frame, confThreshold=0.6) #Give Output only if more than 60% sure\n",
    "    except:pass\n",
    "    \n",
    "    #Put rectangle and text around objects to highlight them\n",
    "    if(len(classInd))!=0:\n",
    "        i=0\n",
    "        for i in range(0,len(classInd)):\n",
    "            if classInd[i]<=80:\n",
    "                cv2.rectangle(frame,box[i],(255,0,0),2)\n",
    "                cv2.putText(frame,classlabels[classInd.flatten()[i] -1],(box[i][0]+10,box[i][1]+40),cv2.QT_FONT_NORMAL,\n",
    "                            fontScale=1, color=(0,255,0), thickness = 2)\n",
    "                cv2.putText(frame, str((confidence.flatten()[i]*100)//1)+\"%\", (box[i][0] + 10, box[i][1] + 50), cv2.QT_FONT_NORMAL,\n",
    "                                fontScale=0.5, color=(0, 255, 128),thickness=1)\n",
    "                \n",
    "                try:\n",
    "                    imag = cv2.resize(frame, (720, 540),interpolation = cv2.INTER_NEAREST)\n",
    "                    #Avoid error of No image fed\n",
    "                    cv2.imshow(\"Object Detection\",frame)\n",
    "                except:pass\n",
    "                \n",
    "                #Exit after pressing Q key\n",
    "                if cv2.waitKey(1) & 0xFF == ord('q'):\n",
    "                    cap.release()\n",
    "                    cv2.destroyAllWindows()\n",
    "                    break\n",
    "            \n",
    "    \n"
   ]
  },
  {
   "cell_type": "code",
   "execution_count": null,
   "metadata": {},
   "outputs": [],
   "source": []
  },
  {
   "cell_type": "code",
   "execution_count": null,
   "metadata": {},
   "outputs": [],
   "source": []
  }
 ],
 "metadata": {
  "kernelspec": {
   "display_name": "Python 3",
   "language": "python",
   "name": "python3"
  },
  "language_info": {
   "codemirror_mode": {
    "name": "ipython",
    "version": 3
   },
   "file_extension": ".py",
   "mimetype": "text/x-python",
   "name": "python",
   "nbconvert_exporter": "python",
   "pygments_lexer": "ipython3",
   "version": "3.8.5"
  }
 },
 "nbformat": 4,
 "nbformat_minor": 4
}
